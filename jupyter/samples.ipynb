{
 "cells": [
  {
   "cell_type": "markdown",
   "id": "206f3f0d",
   "metadata": {},
   "source": [
    "# Buttons\n",
    "カスタムボタンを並べたテスト  \n",
    "![buttons](images/buttons.png)"
   ]
  },
  {
   "cell_type": "code",
   "execution_count": 1,
   "id": "20e72c8c",
   "metadata": {},
   "outputs": [
    {
     "data": {
      "text/plain": [
       "0"
      ]
     },
     "execution_count": 1,
     "metadata": {},
     "output_type": "execute_result"
    }
   ],
   "source": [
    "# %load_ext autoreload\n",
    "# %autoreload 2\n",
    "from importlib import reload\n",
    "from functools import partial\n",
    "from qtpy import QtCore, QtGui, QtWidgets\n",
    "import qtawesome as qta\n",
    "\n",
    "import pyside_components; reload(pyside_components)\n",
    "from pyside_components.widgets import double_clickable_button\n",
    "from pyside_components.widgets import text_editable_button\n",
    "from pyside_components.widgets import double_actions_button\n",
    "from pyside_components.widgets import removable_button\n",
    "from pyside_components.widgets import tag_item_button\n",
    "\n",
    "def print_button_text(btn, additional=''):\n",
    "    print(btn.text(), additional)\n",
    "\n",
    "class MainWindow(QtWidgets.QDialog):\n",
    "\n",
    "    def __init__(self, *args, **kwargs):\n",
    "        super(MainWindow, self).__init__(*args, **kwargs)\n",
    "        lo = QtWidgets.QVBoxLayout()\n",
    "        self.setLayout(lo)\n",
    "\n",
    "        # 通常のボタン\n",
    "        btn = QtWidgets.QPushButton()\n",
    "        btn.setText(type(btn).__name__)\n",
    "        btn.clicked.connect(partial(print_button_text, btn))\n",
    "        lo.addWidget(btn)\n",
    "\n",
    "        # ダブルクリックできるボタン\n",
    "        btn = double_clickable_button.DoubleClickableButton()\n",
    "        btn.setText(type(btn).__name__)\n",
    "        btn.clicked.connect(partial(print_button_text, btn, '(single)'))\n",
    "        btn.double_clicked.connect(partial(print_button_text, btn, '(double)'))\n",
    "        lo.addWidget(btn)\n",
    "\n",
    "        # テキスト編集できるボタン\n",
    "        btn = text_editable_button.TextEditableButton()\n",
    "        btn.setText(type(btn).__name__)\n",
    "        btn.clicked.connect(partial(print_button_text, btn))\n",
    "        lo.addWidget(btn)\n",
    "        \n",
    "        # アクションを2つもつボタン\n",
    "        btn = double_actions_button.DoubleActionsButton()\n",
    "        btn.setText(type(btn).__name__)\n",
    "        btn.update_size()\n",
    "        btn.clicked.connect(partial(print_button_text, btn))\n",
    "        lo.addWidget(btn)\n",
    "\n",
    "        # 削除可能ボタン(追加ボタン実装)\n",
    "        hlo = QtWidgets.QHBoxLayout()\n",
    "        lo.addLayout(hlo)\n",
    "        self.removable_btn_lo = QtWidgets.QVBoxLayout()\n",
    "        hlo.addLayout(self.removable_btn_lo)\n",
    "        self.add_removable_button()\n",
    "\n",
    "        add_icon = qta.icon('fa5s.plus', color='gray')\n",
    "        add_btn = QtWidgets.QPushButton()\n",
    "        add_btn.setStyleSheet('background-color: rgba(0,0,0,0)')\n",
    "        add_btn.setSizePolicy(QtWidgets.QSizePolicy.Fixed, QtWidgets.QSizePolicy.Fixed)\n",
    "        add_btn.setIcon(add_icon)\n",
    "        add_btn.clicked.connect(self.add_removable_button)\n",
    "        hlo.addWidget(add_btn, alignment=QtCore.Qt.AlignTop | QtCore.Qt.AlignRight)\n",
    "\n",
    "        # タグボタン(追加用ラインエディット実装)\n",
    "        self.tag_btn_le = QtWidgets.QLineEdit()\n",
    "        lo.addWidget(self.tag_btn_le)\n",
    "        self.tag_btn_le.setPlaceholderText('Add tag...')\n",
    "        self.tag_btn_le.editingFinished.connect(self.add_tag_button)\n",
    "\n",
    "        self.tag_btn_lo = QtWidgets.QVBoxLayout()\n",
    "        lo.addLayout(self.tag_btn_lo)\n",
    "        self.add_tag_button(type(btn).__name__)\n",
    "\n",
    "        # スペーサー\n",
    "        spacer = QtWidgets.QSpacerItem(0, 0, QtWidgets.QSizePolicy.Expanding, QtWidgets.QSizePolicy.Expanding)\n",
    "        lo.addItem(spacer)\n",
    "        self.setLayout(lo)\n",
    "\n",
    "\n",
    "    def add_removable_button(self):\n",
    "        btn = removable_button.RemovableButton()\n",
    "        btn.clicked.connect(partial(print_button_text, btn))\n",
    "        btn.closed.connect(partial(print_button_text, btn, '(remove)'))\n",
    "        btn.setText(type(btn).__name__)\n",
    "        self.removable_btn_lo.addWidget(btn)\n",
    "        \n",
    "    def add_tag_button(self, text=''):\n",
    "        text = text if text else self.tag_btn_le.text() \n",
    "        \n",
    "        if not text:\n",
    "            return\n",
    "        \n",
    "        self.tag_btn_le.setText('')\n",
    "        btn = tag_item_button.TagItemButton()\n",
    "        btn.setText(text)\n",
    "        btn.clicked.connect(partial(print_button_text, btn))\n",
    "        btn.closed.connect(partial(print_button_text, btn, '(remove)'))\n",
    "        self.tag_btn_lo.addWidget(btn)\n",
    "\n",
    "\n",
    "app = QtWidgets.QApplication.instance()\n",
    "\n",
    "if not app:\n",
    "    app = QtWidgets.QApplication()\n",
    "win = MainWindow()\n",
    "win.show()\n",
    "app.exec_()\n"
   ]
  },
  {
   "cell_type": "markdown",
   "id": "6f052e7b",
   "metadata": {},
   "source": [
    "# FlowLayout\n",
    "ウィンドウ幅に合わせて水平方向に入るウィジェットの数を増減させるフローレイアウト  \n",
    "ウィジェットが追加されたときにウィンドウ高が変化しない問題あり  \n",
    "![flow_layout](images/flow_layout.png)"
   ]
  },
  {
   "cell_type": "code",
   "execution_count": 7,
   "id": "9b154be8",
   "metadata": {},
   "outputs": [
    {
     "data": {
      "text/plain": [
       "0"
      ]
     },
     "execution_count": 7,
     "metadata": {},
     "output_type": "execute_result"
    }
   ],
   "source": [
    "# %load_ext autoreload\n",
    "# %autoreload 2\n",
    "from importlib import reload\n",
    "from qtpy import QtCore, QtGui, QtWidgets\n",
    "\n",
    "import pyside_components; reload(pyside_components)\n",
    "from pyside_components.layouts.flow_layout import FlowLayout\n",
    "\n",
    "btn_texts = [\n",
    "    'Short',\n",
    "    'Longer',\n",
    "    'Different text',\n",
    "    'More text',\n",
    "    'Even longer button text',\n",
    "]\n",
    "\n",
    "class MainWindow(QtWidgets.QWidget):\n",
    "    def __init__(self):\n",
    "        super(MainWindow, self).__init__()\n",
    "\n",
    "        self.flowLayout = FlowLayout()\n",
    "        add_btn = QtWidgets.QPushButton('+')\n",
    "        add_btn.clicked.connect(self.add_button)\n",
    "        self.flowLayout.addWidget(add_btn)\n",
    "\n",
    "        for btn_text in btn_texts:\n",
    "            self.flowLayout.addWidget(QtWidgets.QPushButton(btn_text))\n",
    "\n",
    "        spacer = QtWidgets.QSpacerItem(0, 0, QtWidgets.QSizePolicy.Expanding, QtWidgets.QSizePolicy.Expanding)\n",
    "        self.flowLayout.addItem(spacer)\n",
    "        self.setLayout(self.flowLayout)\n",
    "\n",
    "        self.setWindowTitle(\"Flow Layout\")\n",
    "\n",
    "    def add_button(self):\n",
    "        btn = QtWidgets.QPushButton('test')\n",
    "        self.flowLayout.addWidget(btn)\n",
    "\n",
    "app = QtWidgets.QApplication.instance()\n",
    "\n",
    "if not app:\n",
    "    app = QtWidgets.QApplication()\n",
    "win = MainWindow()\n",
    "win.show()\n",
    "app.exec_()\n"
   ]
  },
  {
   "cell_type": "markdown",
   "id": "5fa9809b",
   "metadata": {},
   "source": [
    "# TagEdit\n",
    "タグの追加、ON/OFF、リネーム機能付き  \n",
    "![tag_edit](images/tag_edit.png)\n"
   ]
  },
  {
   "cell_type": "code",
   "execution_count": 9,
   "id": "153e3312-75d9-4dcf-876a-c50d39ae98c9",
   "metadata": {},
   "outputs": [
    {
     "data": {
      "text/plain": [
       "0"
      ]
     },
     "execution_count": 9,
     "metadata": {},
     "output_type": "execute_result"
    }
   ],
   "source": [
    "# %load_ext autoreload\n",
    "# %autoreload 2\n",
    "from importlib import reload\n",
    "from qtpy import QtCore, QtGui, QtWidgets\n",
    "\n",
    "import pyside_components; reload(pyside_components)\n",
    "from pyside_components.widgets.tag_edit import TagEdit\n",
    "\n",
    "tags = {\n",
    "    'Short': True,\n",
    "    'Longer': True,\n",
    "    'Different text': True,\n",
    "    'More text': True,\n",
    "    'Even longer button text': True,\n",
    "}\n",
    "\n",
    "app = QtWidgets.QApplication.instance()\n",
    "\n",
    "if not app:\n",
    "    app = QtWidgets.QApplication()\n",
    "    \n",
    "win = TagEdit()\n",
    "win.tags = tags\n",
    "win.draw_tag_buttons()\n",
    "win.show()\n",
    "app.exec_()"
   ]
  },
  {
   "cell_type": "markdown",
   "id": "79d56d7b",
   "metadata": {},
   "source": [
    "# FilePathEdit\n",
    "ファイルパスを扱うウィジェット"
   ]
  },
  {
   "cell_type": "code",
   "execution_count": 19,
   "id": "3b1d9541",
   "metadata": {},
   "outputs": [
    {
     "name": "stdout",
     "output_type": "stream",
     "text": [
      "D:/python/packages/pysid_components/jupyter/samples.ipynb\n"
     ]
    },
    {
     "data": {
      "text/plain": [
       "0"
      ]
     },
     "execution_count": 19,
     "metadata": {},
     "output_type": "execute_result"
    }
   ],
   "source": [
    "# %load_ext autoreload\n",
    "# %autoreload 2\n",
    "from qtpy import QtCore, QtGui, QtWidgets\n",
    "from pyside_components.widgets.file_path_edit import FilePathEdit\n",
    "\n",
    "def log(s):\n",
    "    print(s)\n",
    "\n",
    "app = QtWidgets.QApplication.instance()\n",
    "\n",
    "if not app:\n",
    "    app = QtWidgets.QApplication()\n",
    "    \n",
    "win = FilePathEdit()\n",
    "win.textChanged.connect(log)\n",
    "win.show()\n",
    "app.exec_()"
   ]
  },
  {
   "cell_type": "markdown",
   "id": "c3173b25",
   "metadata": {},
   "source": [
    "# DirectoryPathEdit\n",
    "ディレクトリパスを扱うウィジェット"
   ]
  },
  {
   "cell_type": "code",
   "execution_count": 20,
   "id": "10a35db2",
   "metadata": {},
   "outputs": [
    {
     "data": {
      "text/plain": [
       "0"
      ]
     },
     "execution_count": 20,
     "metadata": {},
     "output_type": "execute_result"
    }
   ],
   "source": [
    "# %load_ext autoreload\n",
    "# %autoreload 2\n",
    "from qtpy import QtCore, QtGui, QtWidgets\n",
    "from pyside_components.widgets.file_path_edit import DirectoryPathEdit\n",
    "\n",
    "def log(s):\n",
    "    print(s)\n",
    "\n",
    "app = QtWidgets.QApplication.instance()\n",
    "\n",
    "if not app:\n",
    "    app = QtWidgets.QApplication()\n",
    "    \n",
    "win = DirectoryPathEdit()\n",
    "win.textChanged.connect(log)\n",
    "win.show()\n",
    "app.exec_()"
   ]
  }
 ],
 "metadata": {
  "interpreter": {
   "hash": "5878c2869175ad19707cf44580eb7effb31973b147b5cf0a333ad2255e3c1e07"
  },
  "kernelspec": {
   "display_name": "Python 3 (ipykernel)",
   "language": "python",
   "name": "python3"
  },
  "language_info": {
   "codemirror_mode": {
    "name": "ipython",
    "version": 3
   },
   "file_extension": ".py",
   "mimetype": "text/x-python",
   "name": "python",
   "nbconvert_exporter": "python",
   "pygments_lexer": "ipython3",
   "version": "3.10.2"
  },
  "metadata": {
   "interpreter": {
    "hash": "5878c2869175ad19707cf44580eb7effb31973b147b5cf0a333ad2255e3c1e07"
   }
  }
 },
 "nbformat": 4,
 "nbformat_minor": 5
}
